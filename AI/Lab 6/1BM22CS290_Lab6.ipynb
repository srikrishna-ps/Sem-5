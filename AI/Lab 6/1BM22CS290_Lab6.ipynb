{
  "nbformat": 4,
  "nbformat_minor": 0,
  "metadata": {
    "colab": {
      "provenance": []
    },
    "kernelspec": {
      "name": "python3",
      "display_name": "Python 3"
    },
    "language_info": {
      "name": "python"
    }
  },
  "cells": [
    {
      "cell_type": "markdown",
      "source": [
        "$Implement$ $Unification$ $Algorithm$ $in$ $First$ $Order$ $Logic$"
      ],
      "metadata": {
        "id": "EbkLMvc2oUOL"
      }
    },
    {
      "cell_type": "code",
      "source": [
        "def unify(s1, s2):\n",
        "    subst = {}\n",
        "    return unifyRecursive(s1, s2, subst)\n",
        "\n",
        "def unifyRecursive(s1, s2, subst):\n",
        "    s1 = substitute(s1, subst)\n",
        "    s2 = substitute(s2, subst)\n",
        "\n",
        "    if s1 == s2:\n",
        "        return subst\n",
        "\n",
        "    if isinstance(s1, list) and isinstance(s2, list):\n",
        "        if len(s1) != len(s2):\n",
        "            return None\n",
        "        for i in range(len(s1)):\n",
        "            result = unifyRecursive(s1[i], s2[i], subst)\n",
        "            if result is None:\n",
        "                return None\n",
        "            subst = result\n",
        "        return subst\n",
        "\n",
        "    if isinstance(s1, str) and s1.islower():\n",
        "        return unifyVariable(s1, s2, subst)\n",
        "\n",
        "    if isinstance(s2, str) and s2.islower():\n",
        "        return unifyVariable(s2, s1, subst)\n",
        "\n",
        "    return None\n",
        "\n",
        "def unifyVariable(var, x, subst):\n",
        "    if var in subst:\n",
        "        return unifyRecursive(subst[var], x, subst)\n",
        "    if x == var:\n",
        "        return subst\n",
        "    if isinstance(x, list) and any(v == var for v in x):\n",
        "        return None\n",
        "    if isinstance(x, str) and x.islower() and x in subst:\n",
        "        return unifyRecursive(var, subst[x], subst)\n",
        "\n",
        "    newSubst = subst.copy()\n",
        "    newSubst[var] = x\n",
        "    return newSubst\n",
        "\n",
        "def substitute(expr, subst):\n",
        "    if isinstance(expr, list):\n",
        "        return [substitute(e, subst) for e in expr]\n",
        "    elif isinstance(expr, str) and expr.islower() and expr in subst:\n",
        "        return substitute(subst[expr], subst)\n",
        "    else:\n",
        "        return expr\n",
        "\n",
        "def get_input(prompt):\n",
        "    while True:\n",
        "        user_input = input(prompt)\n",
        "        terms = user_input.split()\n",
        "\n",
        "        if all(term.islower() or term.isalpha() for term in terms):\n",
        "            return terms\n",
        "        else:\n",
        "            print(\"Invalid input. Please enter space-separated terms (e.g., 'P x y'). Try again.\")\n",
        "\n",
        "if __name__ == \"__main__\":\n",
        "    print(\"Unification Algorithm in First-Order Logic\")\n",
        "    print(\"Output: 1BM22CS290\")\n",
        "    s1 = get_input(\"Enter the first expression (e.g., 'P x y'): \")\n",
        "    s2 = get_input(\"Enter the second expression (e.g., 'P a y'): \")\n",
        "\n",
        "    result = unify(s1, s2)\n",
        "\n",
        "    if result:\n",
        "        print(\"Unification successful!\")\n",
        "        print(\"Substitution:\", result)\n",
        "    else:\n",
        "        print(\"The expressions cannot be unified.\")\n"
      ],
      "metadata": {
        "colab": {
          "base_uri": "https://localhost:8080/",
          "height": 0
        },
        "id": "LbhQLtF1isw0",
        "outputId": "ce722bfd-bf60-4ed4-efb4-dc294bd7e3a5"
      },
      "execution_count": 13,
      "outputs": [
        {
          "output_type": "stream",
          "name": "stdout",
          "text": [
            "Unification Algorithm in First-Order Logic\n",
            "Output: 1BM22CS290\n",
            "Enter the first expression (e.g., 'P x y'): F x y\n",
            "Enter the second expression (e.g., 'P a y'): F a b\n",
            "Unification successful!\n",
            "Substitution: {'x': 'a', 'y': 'b'}\n"
          ]
        }
      ]
    }
  ]
}