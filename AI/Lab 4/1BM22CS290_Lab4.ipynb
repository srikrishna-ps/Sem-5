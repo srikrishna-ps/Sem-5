{
  "nbformat": 4,
  "nbformat_minor": 0,
  "metadata": {
    "colab": {
      "provenance": []
    },
    "kernelspec": {
      "name": "python3",
      "display_name": "Python 3"
    },
    "language_info": {
      "name": "python"
    }
  },
  "cells": [
    {
      "cell_type": "markdown",
      "source": [
        "$Implement$ $Hill-Climb$ $Searching$ $Algorithm$ $for$ $n-queens$ $problem$"
      ],
      "metadata": {
        "id": "8nLWPigKrNky"
      }
    },
    {
      "cell_type": "code",
      "execution_count": 12,
      "metadata": {
        "colab": {
          "base_uri": "https://localhost:8080/",
          "height": 0
        },
        "id": "P_m2u3WNqpet",
        "outputId": "a9fa2d07-5c26-4869-8dd8-7ab05703987f"
      },
      "outputs": [
        {
          "output_type": "stream",
          "name": "stdout",
          "text": [
            "Output: 1BM22CS290\n",
            "Current Board:\n",
            ". Q . .\n",
            ". . Q .\n",
            ". . . Q\n",
            "Q . . .\n",
            "\n",
            "Current Conflicts: 4\n",
            "Neighbor Board:\n",
            "Q . . .\n",
            ". . Q .\n",
            ". . . Q\n",
            "Q . . .\n",
            "\n",
            "Neighbor Conflicts: 3\n",
            "Current Board:\n",
            "Q . . .\n",
            ". . Q .\n",
            ". . . Q\n",
            "Q . . .\n",
            "\n",
            "Current Conflicts: 3\n",
            "Neighbor Board:\n",
            "Q . . .\n",
            ". Q . .\n",
            ". . . Q\n",
            "Q . . .\n",
            "\n",
            "Neighbor Conflicts: 2\n",
            "Current Board:\n",
            "Q . . .\n",
            ". Q . .\n",
            ". . . Q\n",
            "Q . . .\n",
            "\n",
            "Current Conflicts: 2\n",
            "Neighbor Board:\n",
            ". . Q .\n",
            ". Q . .\n",
            ". . . Q\n",
            "Q . . .\n",
            "\n",
            "Neighbor Conflicts: 1\n",
            "Final Board Configuration:\n",
            ". . Q .\n",
            "Q . . .\n",
            ". . . Q\n",
            ". Q . .\n",
            "\n",
            "Number of Cost: 3\n"
          ]
        }
      ],
      "source": [
        "import random\n",
        "\n",
        "def calculate_conflicts(board):\n",
        "    conflicts = 0\n",
        "    n = len(board)\n",
        "    for i in range(n):\n",
        "        for j in range(i + 1, n):\n",
        "            if board[i] == board[j] or abs(board[i] - board[j]) == abs(i - j):\n",
        "                conflicts += 1\n",
        "    return conflicts\n",
        "\n",
        "def hill_climbing(n):\n",
        "    cost = 0\n",
        "    while True:\n",
        "        current_board = list(range(n))\n",
        "        random.shuffle(current_board)\n",
        "        current_conflicts = calculate_conflicts(current_board)\n",
        "\n",
        "        while True:\n",
        "            found_better = False\n",
        "            for i in range(n):\n",
        "                for j in range(n):\n",
        "                    if j != current_board[i]:\n",
        "                        neighbor_board = list(current_board)\n",
        "                        neighbor_board[i] = j\n",
        "                        neighbor_conflicts = calculate_conflicts(neighbor_board)\n",
        "                        if neighbor_conflicts < current_conflicts:\n",
        "                            print(\"Current Board:\")\n",
        "                            print_board(current_board)\n",
        "                            print(f\"Current Conflicts: {current_conflicts}\")\n",
        "                            print(\"Neighbor Board:\")\n",
        "                            print_board(neighbor_board)\n",
        "                            print(f\"Neighbor Conflicts: {neighbor_conflicts}\")\n",
        "                            current_board = neighbor_board\n",
        "                            current_conflicts = neighbor_conflicts\n",
        "                            cost += 1\n",
        "                            found_better = True\n",
        "                            break\n",
        "                if found_better:\n",
        "                    break\n",
        "\n",
        "            if not found_better:\n",
        "                break\n",
        "\n",
        "        if current_conflicts == 0:\n",
        "            return current_board, current_conflicts, cost\n",
        "\n",
        "def print_board(board):\n",
        "    n = len(board)\n",
        "    for i in range(n):\n",
        "        row = ['.'] * n\n",
        "        row[board[i]] = 'Q'\n",
        "        print(' '.join(row))\n",
        "    print()\n",
        "\n",
        "print(\"Output: 1BM22CS290\")\n",
        "n = 4\n",
        "solution, conflicts, cost = hill_climbing(n)\n",
        "print(\"Final Board Configuration:\")\n",
        "print_board(solution)\n",
        "print(\"Number of Cost:\", cost)"
      ]
    }
  ]
}
