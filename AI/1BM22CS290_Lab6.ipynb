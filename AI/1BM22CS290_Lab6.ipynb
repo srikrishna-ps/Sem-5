{
  "nbformat": 4,
  "nbformat_minor": 0,
  "metadata": {
    "colab": {
      "provenance": []
    },
    "kernelspec": {
      "name": "python3",
      "display_name": "Python 3"
    },
    "language_info": {
      "name": "python"
    }
  },
  "cells": [
    {
      "cell_type": "markdown",
      "source": [
        "$Implement$ $Unification$ $in$ $FOL$"
      ],
      "metadata": {
        "id": "8nLWPigKrNky"
      }
    },
    {
      "cell_type": "code",
      "execution_count": 17,
      "metadata": {
        "colab": {
          "base_uri": "https://localhost:8080/",
          "height": 0
        },
        "id": "P_m2u3WNqpet",
        "outputId": "a483467d-b130-4586-ba2d-c73a1b19dc4c"
      },
      "outputs": [
        {
          "name": "stdout",
          "output_type": "stream",
          "text": [
            "Output: 1BM22CS290\n",
            "Enter the first expression (e.g., p(x, f(y))): p(x,y,z)\n",
            "Enter the second expression (e.g., p(a, f(z))): p(a,b)\n",
            "Expression 1: ['p', '(x', 'y', 'z)']\n",
            "Expression 2: ['p', '(a', 'b)']\n",
            "Result: Unification Failed\n",
            "Do you want to test another pair of expressions? (yes/no): yes\n",
            "Output: 1BM22CS290\n",
            "Enter the first expression (e.g., p(x, f(y))): p(a,b)\n",
            "Enter the second expression (e.g., p(a, f(z))): p(q,r)\n",
            "Expression 1: ['p', '(a', 'b)']\n",
            "Expression 2: ['p', '(q', 'r)']\n",
            "Result: Unification Successful\n",
            "Substitutions: {'(a': '(q', 'b)': 'r)'}\n",
            "Do you want to test another pair of expressions? (yes/no): no\n"
          ]
        }
      ],
      "source": [
        "import re\n",
        "\n",
        "def occurs_check(var, x):\n",
        "    if var == x:\n",
        "        return True\n",
        "    elif isinstance(x, list):\n",
        "        return any(occurs_check(var, xi) for xi in x)\n",
        "    return False\n",
        "\n",
        "def unify_var(var, x, subst):\n",
        "    if var in subst:\n",
        "        return unify(subst[var], x, subst)\n",
        "    elif isinstance(x, (list, tuple)) and tuple(x) in subst:\n",
        "        return unify(var, subst[tuple(x)], subst)\n",
        "    elif occurs_check(var, x):\n",
        "        return \"FAILURE\"\n",
        "    else:\n",
        "        subst[var] = tuple(x) if isinstance(x, list) else x\n",
        "        return subst\n",
        "\n",
        "def unify(x, y, subst=None):\n",
        "    if subst is None:\n",
        "        subst = {}\n",
        "    if x == y:\n",
        "        return subst\n",
        "    elif isinstance(x, str) and x.islower():\n",
        "        return unify_var(x, y, subst)\n",
        "    elif isinstance(y, str) and y.islower():\n",
        "        return unify_var(y, x, subst)\n",
        "    elif isinstance(x, list) and isinstance(y, list):\n",
        "        if len(x) != len(y):\n",
        "            return \"FAILURE\"\n",
        "        if x[0] != y[0]:\n",
        "            return \"FAILURE\"\n",
        "        for xi, yi in zip(x[1:], y[1:]):\n",
        "            subst = unify(xi, yi, subst)\n",
        "            if subst == \"FAILURE\":\n",
        "                return \"FAILURE\"\n",
        "        return subst\n",
        "    else:\n",
        "        return \"FAILURE\"\n",
        "\n",
        "def unify_and_check(expr1, expr2):\n",
        "    result = unify(expr1, expr2)\n",
        "    if result == \"FAILURE\":\n",
        "        return False, None\n",
        "    return True, result\n",
        "\n",
        "def display_result(expr1, expr2, is_unified, subst):\n",
        "    print(\"Expression 1:\", expr1)\n",
        "    print(\"Expression 2:\", expr2)\n",
        "    if not is_unified:\n",
        "        print(\"Result: Unification Failed\")\n",
        "    else:\n",
        "        print(\"Result: Unification Successful\")\n",
        "        print(\"Substitutions:\", {k: list(v) if isinstance(v, tuple) else v for k, v in subst.items()})\n",
        "\n",
        "def parse_input(input_str):\n",
        "    input_str = input_str.replace(\" \", \"\")\n",
        "    def parse_term(term):\n",
        "        if '(' in term:\n",
        "            match = re.match(r'([a-zA-Z0-9_]+)(.*)', term)\n",
        "            if match:\n",
        "                predicate = match.group(1)\n",
        "                arguments_str = match.group(2)\n",
        "                arguments = [parse_term(arg.strip()) for arg in arguments_str.split(',')]\n",
        "                return [predicate] + arguments\n",
        "        return term\n",
        "    return parse_term(input_str)\n",
        "\n",
        "def main():\n",
        "    while True:\n",
        "        print(\"Output: 1BM22CS290\")\n",
        "        expr1_input = input(\"Enter the first expression (e.g., p(x, f(y))): \")\n",
        "        expr2_input = input(\"Enter the second expression (e.g., p(a, f(z))): \")\n",
        "        expr1 = parse_input(expr1_input)\n",
        "        expr2 = parse_input(expr2_input)\n",
        "        is_unified, result = unify_and_check(expr1, expr2)\n",
        "        display_result(expr1, expr2, is_unified, result)\n",
        "        another_test = input(\"Do you want to test another pair of expressions? (yes/no): \").strip().lower()\n",
        "        if another_test != 'yes':\n",
        "            break\n",
        "\n",
        "if __name__ == \"__main__\":\n",
        "    main()\n"
      ]
    }
  ]
}