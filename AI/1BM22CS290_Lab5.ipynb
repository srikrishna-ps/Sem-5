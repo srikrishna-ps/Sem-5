{
  "nbformat": 4,
  "nbformat_minor": 0,
  "metadata": {
    "colab": {
      "provenance": []
    },
    "kernelspec": {
      "name": "python3",
      "display_name": "Python 3"
    },
    "language_info": {
      "name": "python"
    }
  },
  "cells": [
    {
      "cell_type": "markdown",
      "source": [
        "$Implement$ $Simulated$ $Annealing$ $to$ $solve$ $n-queens$ $problem$"
      ],
      "metadata": {
        "id": "8nLWPigKrNky"
      }
    },
    {
      "cell_type": "code",
      "execution_count": 18,
      "metadata": {
        "colab": {
          "base_uri": "https://localhost:8080/",
          "height": 0
        },
        "id": "P_m2u3WNqpet",
        "outputId": "7c8fce40-22a9-4c04-8094-443c79d2baed"
      },
      "outputs": [
        {
          "output_type": "stream",
          "name": "stdout",
          "text": [
            "Output: 1BM22CS290\n",
            "Enter the column positions for the queens (space-separated integers between 0 and 7): 0 1 2 3 4 5 6 7\n",
            "Q . . . . . . .\n",
            ". Q . . . . . .\n",
            ". . Q . . . . .\n",
            ". . . Q . . . .\n",
            ". . . . Q . . .\n",
            ". . . . . Q . .\n",
            ". . . . . . Q .\n",
            ". . . . . . . Q\n",
            "Solution found!\n",
            ". . . . Q . . .\n",
            ". . . . . . Q .\n",
            "Q . . . . . . .\n",
            ". . Q . . . . .\n",
            ". . . . . . . Q\n",
            ". . . . . Q . .\n",
            ". . . Q . . . .\n",
            ". Q . . . . . .\n"
          ]
        }
      ],
      "source": [
        "import random\n",
        "import math\n",
        "\n",
        "def count_conflicts(state):\n",
        "    conflicts = 0\n",
        "    n = len(state)\n",
        "    for i in range(n):\n",
        "        for j in range(i + 1, n):\n",
        "            if state[i] == state[j]:\n",
        "                conflicts += 1\n",
        "            if abs(state[i] - state[j]) == abs(i - j):\n",
        "                conflicts += 1\n",
        "    return conflicts\n",
        "\n",
        "def generate_neighbors(state):\n",
        "    neighbors = []\n",
        "    n = len(state)\n",
        "    for i in range(n):\n",
        "        for j in range(i + 1, n):\n",
        "            neighbor = state[:]\n",
        "            neighbor[i], neighbor[j] = neighbor[j], neighbor[i]\n",
        "            neighbors.append(neighbor)\n",
        "    return neighbors\n",
        "\n",
        "def acceptance_probability(old_cost, new_cost, temperature):\n",
        "    if new_cost < old_cost:\n",
        "        return 1.0\n",
        "    return math.exp((old_cost - new_cost) / temperature)\n",
        "\n",
        "def simulated_annealing(n, initial_state, initial_temp, cooling_rate, max_iterations):\n",
        "    state = initial_state\n",
        "    current_cost = count_conflicts(state)\n",
        "    temperature = initial_temp\n",
        "\n",
        "    for iteration in range(max_iterations):\n",
        "        neighbors = generate_neighbors(state)\n",
        "        random_neighbor = random.choice(neighbors)\n",
        "        new_cost = count_conflicts(random_neighbor)\n",
        "\n",
        "        if acceptance_probability(current_cost, new_cost, temperature) > random.random():\n",
        "            state = random_neighbor\n",
        "            current_cost = new_cost\n",
        "\n",
        "        temperature *= cooling_rate\n",
        "\n",
        "        if current_cost == 0:\n",
        "            return state\n",
        "    return None\n",
        "\n",
        "def get_user_input(n):\n",
        "    while True:\n",
        "        try:\n",
        "            print(\"Output: 1BM22CS290\")\n",
        "            user_input = input(f\"Enter the column positions for the queens (space-separated integers between 0 and {n-1}): \")\n",
        "            initial_state = list(map(int, user_input.split()))\n",
        "            for row in range(n):\n",
        "              board = ['Q' if col == initial_state[row] else '.' for col in range(n)]\n",
        "              print(' '.join(board))\n",
        "            if len(initial_state) != n or any(x < 0 or x >= n for x in initial_state):\n",
        "                print(f\"Invalid input. Please enter exactly {n} integers between 0 and {n-1}.\")\n",
        "                continue\n",
        "            return initial_state\n",
        "        except ValueError:\n",
        "            print(f\"Invalid input. Please enter a list of {n} integers.\")\n",
        "\n",
        "n = 8\n",
        "initial_state = get_user_input(n)\n",
        "\n",
        "initial_temp = 1000\n",
        "cooling_rate = 0.99\n",
        "max_iterations = 10000\n",
        "\n",
        "\n",
        "solution = simulated_annealing(n, initial_state, initial_temp, cooling_rate, max_iterations)\n",
        "\n",
        "if solution:\n",
        "    print(\"Solution found!\")\n",
        "\n",
        "    for row in range(n):\n",
        "        board = ['Q' if col == solution[row] else '.' for col in range(n)]\n",
        "        print(' '.join(board))\n",
        "else:\n",
        "    print(\"No solution found within the given iterations.\")"
      ]
    }
  ]
}