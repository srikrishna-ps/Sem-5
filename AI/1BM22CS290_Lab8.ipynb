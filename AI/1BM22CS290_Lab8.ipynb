{
  "nbformat": 4,
  "nbformat_minor": 0,
  "metadata": {
    "colab": {
      "provenance": []
    },
    "kernelspec": {
      "name": "python3",
      "display_name": "Python 3"
    },
    "language_info": {
      "name": "python"
    }
  },
  "cells": [
    {
      "cell_type": "markdown",
      "source": [
        "$Create$ $a$ $knowledge$ $base$ $consisting$ $of$ $FOL$\n",
        "$statements$ $and$ $prove$ $the$ $given$ $query$ $using$ $Resolution$"
      ],
      "metadata": {
        "id": "8nLWPigKrNky"
      }
    },
    {
      "cell_type": "code",
      "execution_count": 15,
      "metadata": {
        "colab": {
          "base_uri": "https://localhost:8080/"
        },
        "id": "P_m2u3WNqpet",
        "outputId": "c7a85470-5359-4faa-e114-f1ea9be7b3f4"
      },
      "outputs": [
        {
          "output_type": "stream",
          "name": "stdout",
          "text": [
            "Output: 1BM22CS290\n",
            "Does John like peanuts? Yes\n"
          ]
        }
      ],
      "source": [
        "# Define the knowledge base (KB)\n",
        "KB = {\n",
        "    \"food(Apple)\": True,\n",
        "    \"food(vegetables)\": True,\n",
        "    \"eats(Anil, Peanuts)\": True,\n",
        "    \"alive(Anil)\": True,\n",
        "    \"likes(John, X)\": \"food(X)\",  # Rule: John likes all food\n",
        "    \"food(X)\": \"eats(Y, X) and not killed(Y)\",  # Rule: Anything eaten and not killed is food\n",
        "    \"eats(Harry, X)\": \"eats(Anil, X)\",  # Rule: Harry eats what Anil eats\n",
        "    \"alive(X)\": \"not killed(X)\",  # Rule: Alive implies not killed\n",
        "    \"not killed(X)\": \"alive(X)\",  # Rule: Not killed implies alive\n",
        "}\n",
        "\n",
        "# Function to evaluate if a predicate is true based on the KB\n",
        "def resolve(predicate):\n",
        "    # If it's a direct fact in KB\n",
        "    if predicate in KB and isinstance(KB[predicate], bool):\n",
        "        return KB[predicate]\n",
        "\n",
        "    # If it's a derived rule\n",
        "    if predicate in KB:\n",
        "        rule = KB[predicate]\n",
        "        if \" and \" in rule:  # Handle conjunction\n",
        "            sub_preds = rule.split(\" and \")\n",
        "            return all(resolve(sub.strip()) for sub in sub_preds)\n",
        "        elif \" or \" in rule:  # Handle disjunction\n",
        "            sub_preds = rule.split(\" or \")\n",
        "            return any(resolve(sub.strip()) for sub in sub_preds)\n",
        "        elif \"not \" in rule:  # Handle negation\n",
        "            sub_pred = rule[4:]  # Remove \"not \"\n",
        "            return not resolve(sub_pred.strip())\n",
        "        else:  # Handle single predicate\n",
        "            return resolve(rule.strip())\n",
        "\n",
        "    # If the predicate is a specific query (e.g., likes(John, Peanuts))\n",
        "    if \"(\" in predicate:\n",
        "        func, args = predicate.split(\"(\")\n",
        "        args = args.strip(\")\").split(\", \")\n",
        "        if func == \"food\" and args[0] == \"Peanuts\":\n",
        "            return resolve(\"eats(Anil, Peanuts)\") and not resolve(\"killed(Anil)\")\n",
        "        if func == \"likes\" and args[0] == \"John\" and args[1] == \"Peanuts\":\n",
        "            return resolve(\"food(Peanuts)\")\n",
        "\n",
        "    # Default to False if no rule or fact applies\n",
        "    return False\n",
        "\n",
        "# Query to prove: John likes Peanuts\n",
        "query = \"likes(John, Peanuts)\"\n",
        "result = resolve(query)\n",
        "\n",
        "# Print the result\n",
        "print(\"Output: 1BM22CS290\")\n",
        "print(f\"Does John like peanuts? {'Yes' if result else 'No'}\")"
      ]
    }
  ]
}