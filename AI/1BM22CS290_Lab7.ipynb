{
  "nbformat": 4,
  "nbformat_minor": 0,
  "metadata": {
    "colab": {
      "provenance": []
    },
    "kernelspec": {
      "name": "python3",
      "display_name": "Python 3"
    },
    "language_info": {
      "name": "python"
    }
  },
  "cells": [
    {
      "cell_type": "markdown",
      "source": [
        "$Create$ $a$ $knowledge$ $base$ $consisting$ $of$ $first$ $order$ $logic$ $statements$ $and$ $prove$ $the$ $given$ $query$ $using$ $forward$ $reasoning.$\n"
      ],
      "metadata": {
        "id": "8nLWPigKrNky"
      }
    },
    {
      "cell_type": "code",
      "execution_count": 20,
      "metadata": {
        "colab": {
          "base_uri": "https://localhost:8080/"
        },
        "id": "P_m2u3WNqpet",
        "outputId": "ec0ed0af-2797-4764-f4a6-60db3d7e46bf"
      },
      "outputs": [
        {
          "output_type": "stream",
          "name": "stdout",
          "text": [
            "Output: 1BM22CS290\n",
            "\n",
            "Final derived facts:\n",
            "SoldWeapons(West, Nono)\n",
            "InAmerica(West)\n",
            "Enemy(Nono, America)\n"
          ]
        }
      ],
      "source": [
        "# Define initial facts and rules\n",
        "facts = {\"InAmerica(West)\", \"SoldWeapons(West, Nono)\", \"Enemy(Nono, America)\"}\n",
        "rules = [\n",
        "    {\n",
        "        \"conditions\": [\"InAmerica(x)\", \"SoldWeapons(x, y)\", \"Enemy(y, America)\"],\n",
        "        \"conclusion\": \"Criminal(x)\",\n",
        "    },\n",
        "    {\n",
        "        \"conditions\": [\"Enemy(y, America)\"],\n",
        "        \"conclusion\": \"Dangerous(y)\",\n",
        "    },\n",
        "]\n",
        "\n",
        "# Forward chaining function\n",
        "def forward_chaining(facts, rules):\n",
        "    derived_facts = set(facts)  # Initialize derived facts\n",
        "    while True:\n",
        "        new_fact_found = False\n",
        "\n",
        "        for rule in rules:\n",
        "            # Substitute variables and check if conditions are met\n",
        "            for fact in derived_facts:\n",
        "                if \"x\" in rule[\"conditions\"][0]:\n",
        "                    # Substitute variables (x, y) with specific instances\n",
        "                    for condition in rule[\"conditions\"]:\n",
        "                        if \"x\" in condition or \"y\" in condition:\n",
        "                            x = \"West\"  # Hardcoded substitution for simplicity\n",
        "                            y = \"Nono\"\n",
        "                            conditions = [\n",
        "                                cond.replace(\"x\", x).replace(\"y\", y)\n",
        "                                for cond in rule[\"conditions\"]\n",
        "                            ]\n",
        "                            conclusion = (\n",
        "                                rule[\"conclusion\"].replace(\"x\", x).replace(\"y\", y)\n",
        "                            )\n",
        "\n",
        "                            # Check if all conditions are satisfied\n",
        "                            if all(cond in derived_facts for cond in conditions) and conclusion not in derived_facts:\n",
        "                                derived_facts.add(conclusion)\n",
        "                                print(f\"New fact derived: {conclusion}\")\n",
        "                                new_fact_found = True\n",
        "\n",
        "        # Exit loop if no new fact is found\n",
        "        if not new_fact_found:\n",
        "            break\n",
        "\n",
        "    return derived_facts\n",
        "\n",
        "# Run forward chaining\n",
        "final_facts = forward_chaining(facts, rules)\n",
        "print(\"Output: 1BM22CS290\")\n",
        "print(\"\\nFinal derived facts:\")\n",
        "for fact in final_facts:\n",
        "    print(fact)"
      ]
    }
  ]
}