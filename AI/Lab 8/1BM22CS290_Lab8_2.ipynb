{
  "nbformat": 4,
  "nbformat_minor": 0,
  "metadata": {
    "colab": {
      "provenance": []
    },
    "kernelspec": {
      "name": "python3",
      "display_name": "Python 3"
    },
    "language_info": {
      "name": "python"
    }
  },
  "cells": [
    {
      "cell_type": "markdown",
      "source": [
        "$Implement$ $Alpha-Beta$ $Pruning.$\n"
      ],
      "metadata": {
        "id": "8nLWPigKrNky"
      }
    },
    {
      "cell_type": "code",
      "execution_count": 2,
      "metadata": {
        "colab": {
          "base_uri": "https://localhost:8080/",
          "height": 0
        },
        "id": "P_m2u3WNqpet",
        "outputId": "70cab20a-0015-4d2b-94ee-ce8116d76282"
      },
      "outputs": [
        {
          "output_type": "stream",
          "name": "stdout",
          "text": [
            "Output: 1BM22CS290\n",
            "Enter numbers for the game tree (space-separated): 10 9 14 18 5 4 50 3\n",
            "Final Result of Alpha-Beta Pruning: 50\n"
          ]
        }
      ],
      "source": [
        "def alpha_beta_pruning(node, alpha, beta, maximizing_player):\n",
        "    if type(node) is int:\n",
        "        return node\n",
        "\n",
        "    if maximizing_player:\n",
        "        max_eval = -float('inf')\n",
        "        for child in node:\n",
        "            eval = alpha_beta_pruning(child, alpha, beta, False)\n",
        "            max_eval = max(max_eval, eval)\n",
        "            alpha = max(alpha, eval)\n",
        "            if beta <= alpha:\n",
        "                break\n",
        "        return max_eval\n",
        "    else:\n",
        "        min_eval = float('inf')\n",
        "        for child in node:\n",
        "            eval = alpha_beta_pruning(child, alpha, beta, True)\n",
        "            min_eval = min(min_eval, eval)\n",
        "            beta = min(beta, eval)\n",
        "            if beta <= alpha:\n",
        "                break\n",
        "        return min_eval\n",
        "\n",
        "def build_tree(numbers):\n",
        "    current_level = [[n] for n in numbers]\n",
        "\n",
        "    while len(current_level) > 1:\n",
        "        next_level = []\n",
        "        for i in range(0, len(current_level), 2):\n",
        "            if i + 1 < len(current_level):\n",
        "                next_level.append(current_level[i] + current_level[i + 1])\n",
        "            else:\n",
        "                next_level.append(current_level[i])\n",
        "        current_level = next_level\n",
        "\n",
        "    return current_level[0]\n",
        "\n",
        "def main():\n",
        "    print(\"Output: 1BM22CS290\")\n",
        "    numbers = list(map(int, input(\"Enter numbers for the game tree (space-separated): \").split()))\n",
        "    tree = build_tree(numbers)\n",
        "\n",
        "    alpha = -float('inf')\n",
        "    beta = float('inf')\n",
        "    maximizing_player = True\n",
        "\n",
        "    result = alpha_beta_pruning(tree, alpha, beta, maximizing_player)\n",
        "    print(\"Final Result of Alpha-Beta Pruning:\", result)\n",
        "\n",
        "if __name__ == \"__main__\":\n",
        "    main()"
      ]
    }
  ]
}