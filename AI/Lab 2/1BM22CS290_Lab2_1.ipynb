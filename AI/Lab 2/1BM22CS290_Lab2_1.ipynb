{
  "nbformat": 4,
  "nbformat_minor": 0,
  "metadata": {
    "colab": {
      "provenance": []
    },
    "kernelspec": {
      "name": "python3",
      "display_name": "Python 3"
    },
    "language_info": {
      "name": "python"
    }
  },
  "cells": [
    {
      "cell_type": "markdown",
      "source": [
        "$Implement$ $Vacuum$ $Cleaner$ $Agent$"
      ],
      "metadata": {
        "id": "8nLWPigKrNky"
      }
    },
    {
      "cell_type": "code",
      "execution_count": 9,
      "metadata": {
        "colab": {
          "base_uri": "https://localhost:8080/",
          "height": 0
        },
        "id": "P_m2u3WNqpet",
        "outputId": "a258218d-d5c3-4721-9074-e89b79c4f065"
      },
      "outputs": [
        {
          "output_type": "stream",
          "name": "stdout",
          "text": [
            "Enter Location of Vacuum (A or B): A\n",
            "Enter status of A (0 for Clean, 1 for Dirty): 0\n",
            "Enter status of B (0 for Clean, 1 for Dirty): 1\n",
            "Initial Location Condition: {'A': '0', 'B': '0'}\n",
            "Vacuum is placed in Location A\n",
            "Location A is already clean.\n",
            "Location B is Dirty.\n",
            "Moving RIGHT to Location B.\n",
            "Cost for moving RIGHT: 1\n",
            "Cost for suck: 2\n",
            "Location B has been Cleaned.\n",
            "GOAL STATE: \n",
            "{'A': '0', 'B': '0'}\n",
            "Performance Measurement: 2\n",
            "-------------------------\n",
            "Output: 1BM22CS290\n"
          ]
        }
      ],
      "source": [
        "def vacuum_world():\n",
        "    goal_state = {'A': '0', 'B': '0'}\n",
        "    cost = 0\n",
        "\n",
        "    location_input = input(\"Enter Location of Vacuum (A or B): \").strip().upper()\n",
        "    status_input = input(f\"Enter status of A (0 for Clean, 1 for Dirty): \").strip()\n",
        "    status_input_complement = input(\"Enter status of B (0 for Clean, 1 for Dirty): \").strip()\n",
        "\n",
        "    print(\"Initial Location Condition: \" + str(goal_state))\n",
        "\n",
        "    if location_input == 'A':\n",
        "        print(\"Vacuum is placed in Location A\")\n",
        "        if status_input == '1':\n",
        "            print(\"Location A is Dirty.\")\n",
        "            goal_state['A'] = '0'\n",
        "            cost += 1\n",
        "            print(\"Cost for cleaning A: \" + str(cost))\n",
        "            print(\"Location A has been Cleaned.\")\n",
        "\n",
        "            if status_input_complement == '1':\n",
        "                print(\"Location B is Dirty.\")\n",
        "                print(\"Moving right to Location B.\")\n",
        "                cost += 1\n",
        "                print(\"Cost for moving RIGHT: \" + str(cost))\n",
        "\n",
        "                goal_state['B'] = '0'\n",
        "                cost += 1\n",
        "                print(\"Cost for suck: \" + str(cost))\n",
        "                print(\"Location B has been Cleaned.\")\n",
        "            else:\n",
        "                print(\"Location B is already clean.\")\n",
        "        else:\n",
        "            print(\"Location A is already clean.\")\n",
        "            if status_input_complement == '1':\n",
        "                print(\"Location B is Dirty.\")\n",
        "                print(\"Moving RIGHT to Location B.\")\n",
        "                cost += 1\n",
        "                print(\"Cost for moving RIGHT: \" + str(cost))\n",
        "\n",
        "                goal_state['B'] = '0'\n",
        "                cost += 1\n",
        "                print(\"Cost for suck: \" + str(cost))\n",
        "                print(\"Location B has been Cleaned.\")\n",
        "            else:\n",
        "                print(\"Location B is already clean.\")\n",
        "\n",
        "    elif location_input == 'B':\n",
        "        print(\"Vacuum is placed in Location B\")\n",
        "        if status_input == '1':\n",
        "            print(\"Location B is Dirty.\")\n",
        "            goal_state['B'] = '0'  # Clean B\n",
        "            cost += 1  # Cost for sucking\n",
        "            print(\"Cost for cleaning B: \" + str(cost))\n",
        "            print(\"Location B has been Cleaned.\")\n",
        "\n",
        "            if status_input_complement == '1':\n",
        "                print(\"Location A is Dirty.\")\n",
        "                print(\"Moving LEFT to Location A.\")\n",
        "                cost += 1  # Cost for moving left\n",
        "                print(\"Cost for moving LEFT: \" + str(cost))\n",
        "\n",
        "                goal_state['A'] = '0'\n",
        "                cost += 1\n",
        "                print(\"Cost for suck: \" + str(cost))\n",
        "                print(\"Location A has been Cleaned.\")\n",
        "            else:\n",
        "                print(\"Location A is already clean.\")\n",
        "        else:\n",
        "            print(\"Location B is already clean.\")\n",
        "            if status_input_complement == '1':\n",
        "                print(\"Location A is Dirty.\")\n",
        "                print(\"Moving LEFT to Location A.\")\n",
        "                cost += 1\n",
        "                print(\"Cost for moving LEFT: \" + str(cost))\n",
        "\n",
        "                goal_state['A'] = '0'\n",
        "                cost += 1\n",
        "                print(\"Cost for suck: \" + str(cost))\n",
        "                print(\"Location A has been Cleaned.\")\n",
        "            else:\n",
        "                print(\"Location A is already clean.\")\n",
        "\n",
        "    print(\"GOAL STATE: \")\n",
        "    print(goal_state)\n",
        "    print(\"Performance Measurement: \" + str(cost))\n",
        "\n",
        "vacuum_world()\n",
        "print(\"-------------------------\")\n",
        "print(\"Output: 1BM22CS290\")"
      ]
    }
  ]
}
